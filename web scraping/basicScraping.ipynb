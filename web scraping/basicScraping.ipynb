{
 "cells": [
  {
   "cell_type": "code",
   "execution_count": 1,
   "metadata": {},
   "outputs": [],
   "source": [
    "import requests\n",
    "from bs4 import BeautifulSoup"
   ]
  },
  {
   "cell_type": "code",
   "execution_count": 2,
   "metadata": {},
   "outputs": [],
   "source": [
    "url = 'http://www.indiatoday.in/top-stories'"
   ]
  },
  {
   "cell_type": "code",
   "execution_count": 3,
   "metadata": {},
   "outputs": [],
   "source": [
    "data = requests.get(url)"
   ]
  },
  {
   "cell_type": "code",
   "execution_count": 4,
   "metadata": {},
   "outputs": [
    {
     "name": "stdout",
     "output_type": "stream",
     "text": [
      "200\n"
     ]
    }
   ],
   "source": [
    "print(data.status_code)\n",
    "#data.text"
   ]
  },
  {
   "cell_type": "code",
   "execution_count": 5,
   "metadata": {},
   "outputs": [],
   "source": [
    "soup = BeautifulSoup(data.text)"
   ]
  },
  {
   "cell_type": "code",
   "execution_count": 6,
   "metadata": {},
   "outputs": [
    {
     "data": {
      "text/plain": [
       "<div class=\"catagory-listing\"><div class=\"pic\"> <img alt=\"\" data-preview-url=\"\" src=\"https://akm-img-a-in.tosshub.com/indiatoday/images/story/202112/pjimage_(3)_9.jpg?YONPcpMqfeEcEtaB_d75YzUjVvLNDfjK&amp;size=170:96\" title=\"\"/></div><div class=\"detail\"><h2 class=\"\" title=\"Did Rashmika Mandanna turn photographer for Vijay Deverakonda on their date night? See here\"><a href=\"/movies/regional-cinema/story/did-rashmika-mandanna-turn-photographer-for-vijay-deverakonda-on-their-date-night-see-here-1890426-2021-12-21\">Did Rashmika Mandanna turn photographer for Vijay Deverakonda on their date night? See here</a></h2><p>Vijay Deverakonda was recently spotted with Rashmika Mandanna outside a\n",
       "restaurant in Mumbai. Today, December 21, Vijay shared a photo on social\n",
       "media, which seems to have been clicked by Rashmika.</p></div></div>"
      ]
     },
     "execution_count": 6,
     "metadata": {},
     "output_type": "execute_result"
    }
   ],
   "source": [
    "#it finds and returns the first occurence of tag\n",
    "soup.find('div', { 'class' : 'catagory-listing' })"
   ]
  },
  {
   "cell_type": "code",
   "execution_count": 7,
   "metadata": {},
   "outputs": [],
   "source": [
    "\n",
    "# find all returns all the matching tags in alist\n",
    "for row in soup.find_all('div', {'class': 'category-listing'}):\n",
    "    print(row.find('img').attrs.get('src'))\n",
    "    print(row.find('h2').text)\n",
    "    print(row.find('p').text)\n",
    "    print()"
   ]
  }
 ],
 "metadata": {
  "interpreter": {
   "hash": "69bdcad10eae37116676003ab2c19535a04ca929b8f70ec20775b463c4ec4a57"
  },
  "kernelspec": {
   "display_name": "Python 3.10.0 64-bit",
   "language": "python",
   "name": "python3"
  },
  "language_info": {
   "codemirror_mode": {
    "name": "ipython",
    "version": 3
   },
   "file_extension": ".py",
   "mimetype": "text/x-python",
   "name": "python",
   "nbconvert_exporter": "python",
   "pygments_lexer": "ipython3",
   "version": "3.10.0"
  },
  "orig_nbformat": 4
 },
 "nbformat": 4,
 "nbformat_minor": 2
}
